{
 "cells": [
  {
   "cell_type": "markdown",
   "metadata": {},
   "source": [
    "## Imports\n",
    "\n",
    "In this section, we'll import:\n",
    "- `json` to parse the JSON documents\n",
    "- `wordcloud` for the creation of a word cloud\n",
    "- `matplotlib` to show the word cloud\n",
    "- `lookup_json` (local) to allow the extraction of all lyrics from the tracks "
   ]
  },
  {
   "cell_type": "code",
   "execution_count": null,
   "metadata": {},
   "outputs": [],
   "source": [
    "import os\n",
    "import json\n",
    "import re\n",
    "\n",
    "from wordcloud import WordCloud\n",
    "import matplotlib.pyplot as plt\n",
    "import pandas as pd\n",
    "\n",
    "import lookup_json"
   ]
  },
  {
   "cell_type": "markdown",
   "metadata": {},
   "source": [
    "## Read the text"
   ]
  },
  {
   "cell_type": "code",
   "execution_count": null,
   "metadata": {},
   "outputs": [],
   "source": [
    "with open(os.curdir + \"/../data/backup-tracks.json\", 'r') as f:\n",
    "    obj = json.load(f)"
   ]
  },
  {
   "cell_type": "code",
   "execution_count": null,
   "metadata": {},
   "outputs": [],
   "source": [
    "text = \" \".join(lookup_json.dump(obj, [\"*\", \"lyrics\", \"*\", \"content\"]))\n",
    "\n",
    "# Create the wordcloud object\n",
    "wordcloud = WordCloud(width=480, height=480, margin=0).generate(text)\n",
    "\n",
    "# Display the generated image:\n",
    "plt.imshow(wordcloud, interpolation='bilinear')\n",
    "plt.axis(\"off\")\n",
    "plt.margins(x=0, y=0)\n",
    "# plt.savefig(\"wordcloud.svg\")"
   ]
  },
  {
   "cell_type": "markdown",
   "metadata": {},
   "source": [
    "## Descriptive Statistics"
   ]
  },
  {
   "cell_type": "code",
   "execution_count": null,
   "metadata": {},
   "outputs": [],
   "source": [
    "def get_present_values(obj, path):\n",
    "    missing = []\n",
    "    \n",
    "    values = list(lookup_json.dump(obj, path, missing))\n",
    "    present_values = list(filter(lambda x: x is not missing, values))\n",
    "    \n",
    "    return (present_values, values)\n",
    "\n",
    "def print_missing(obj, path, name):\n",
    "    present_values, values = get_present_values(obj, path)\n",
    "    print(f\"Missing {name} (%): {100 - (100 * len(present_values) / len(values))}\")\n",
    "    "
   ]
  },
  {
   "cell_type": "code",
   "execution_count": null,
   "metadata": {},
   "outputs": [],
   "source": [
    "print_missing(obj, [\"*\", \"publishedAt\"], \"publishedAt\")\n",
    "print_missing(obj, [\"*\", \"album\"], \"album\")\n",
    "print_missing(obj, [\"*\", \"album\", \"image\"], \"album.image\")\n",
    "print_missing(obj, [\"*\", \"lyrics\", \"0\", \"title\"], \"lyrics.0.title\")\n",
    "print_missing(obj, [\"*\", \"duration\"], \"duration\")\n",
    "print_missing(obj, [\"*\", \"publishedAt\"], \"publishedAt\")\n",
    "\n",
    "df_durations = pd.DataFrame(get_present_values(obj, [\"*\", \"duration\"])[0], columns=[\"duration\"])\n",
    "df_durations.describe()"
   ]
  },
  {
   "cell_type": "code",
   "execution_count": null,
   "metadata": {},
   "outputs": [],
   "source": [
    "wc_regex = re.compile(r\"\\b\\S+\\b\")\n",
    "\n",
    "def get_words(text):\n",
    "    yield from map(lambda x: x.group(), wc_regex.finditer(text))"
   ]
  },
  {
   "cell_type": "code",
   "execution_count": null,
   "metadata": {},
   "outputs": [],
   "source": [
    "\n",
    "word_counts = []\n",
    "section_counts = []\n",
    "\n",
    "weird_songs = []\n",
    "for index, lyrics in enumerate(lookup_json.dump(obj, [\"*\", \"lyrics\"])):\n",
    "    sections = list(lookup_json.dump(lyrics, [\"*\", \"content\"]))\n",
    "    \n",
    "    text = \"\\n\".join(sections)\n",
    "    num_words = len(list(get_words(text)))\n",
    "    if num_words == 0:\n",
    "        weird_songs.append(lookup_json.dump(obj, [str(index), \"lyrics\"]).__next__())\n",
    "    \n",
    "    section_counts.append(len(sections))\n",
    "    word_counts.append(num_words)\n",
    "    \n",
    "# print(weird_songs)\n",
    "    \n",
    "df_word_counts = pd.DataFrame(word_counts, columns=[\"word_count\"])\n",
    "print(df_word_counts.describe().style.to_latex())\n",
    "\n",
    "df_section_counts = pd.DataFrame(section_counts, columns=[\"section_count\"])\n",
    "# df_section_counts.describe().style.to_latex()"
   ]
  },
  {
   "cell_type": "code",
   "execution_count": null,
   "metadata": {},
   "outputs": [],
   "source": [
    "genre_counts = {}\n",
    "for genre in lookup_json.dump(obj, [\"*\", \"genres\", \"*\"]):\n",
    "    if genre in genre_counts:\n",
    "        genre_counts[genre] += 1\n",
    "    else:\n",
    "        genre_counts[genre] = 1\n",
    " \n",
    "       \n",
    "genre_items = list(sorted(genre_counts.items(), key=lambda x: x[1], reverse=True))[0:20]\n",
    "\n",
    "df_tag_counts = pd.DataFrame(genre_items, columns=[\"Genre\", \"Number of tracks\"])\n",
    "df_tag_counts.describe()\n",
    "\n",
    "print(df_tag_counts.to_latex())\n",
    "\n",
    "figure = df_tag_counts.plot.barh(x=\"Genre\", y=\"Number of tracks\").get_figure()\n",
    "figure.savefig(\"genre_counts.svg\", pad_inches=0.1, bbox_inches=\"tight\")\n",
    "# df_tag_counts.head(20).plot.barh(x=\"Genre\", y=\"Number of tracks\")\n"
   ]
  },
  {
   "cell_type": "code",
   "execution_count": null,
   "metadata": {},
   "outputs": [],
   "source": [
    "year_counts = {}\n",
    "\n",
    "dates = lookup_json.dump(obj, [\"*\", \"publishedAt\"])\n",
    "for date in dates:\n",
    "    year = date.split(\",\")[0].split(\" \")[-1]\n",
    "    if year in year_counts:\n",
    "        year_counts[year] += 1\n",
    "    else:\n",
    "        year_counts[year] = 1\n",
    "        \n",
    "year_items = list(sorted(year_counts.items(), key=lambda x: x[0], reverse=False))\n",
    "df_year_counts = pd.DataFrame(year_items, columns=[\"Year\", \"Number of tracks\"])\n",
    "df_year_counts.describe()\n",
    "\n",
    "figure = df_year_counts.plot.barh(x=\"Year\", y=\"Number of tracks\", figsize=(20, 10)).get_figure()\n",
    "figure.savefig(\"wiki_tracks_publish.svg\", pad_inches=0.1, bbox_inches=\"tight\")"
   ]
  }
 ],
 "metadata": {
  "kernelspec": {
   "display_name": "shims",
   "language": "python",
   "name": "python3"
  },
  "language_info": {
   "codemirror_mode": {
    "name": "ipython",
    "version": 3
   },
   "file_extension": ".py",
   "mimetype": "text/x-python",
   "name": "python",
   "nbconvert_exporter": "python",
   "pygments_lexer": "ipython3",
   "version": "3.11.6"
  }
 },
 "nbformat": 4,
 "nbformat_minor": 2
}
